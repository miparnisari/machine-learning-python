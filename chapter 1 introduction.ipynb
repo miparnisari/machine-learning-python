{
 "cells": [
  {
   "cell_type": "code",
   "execution_count": null,
   "metadata": {},
   "outputs": [],
   "source": [
    "import numpy as np\n",
    "# each NumPy array must have the same type\n",
    "x = np.array([[1,2,3], [4,5,6]])\n",
    "print(\"x:\\n{}\".format(x))"
   ]
  },
  {
   "cell_type": "code",
   "execution_count": null,
   "metadata": {},
   "outputs": [],
   "source": [
    "from scipy import sparse\n",
    "# Create a 2d NumPy array wiath a diagonal of ones, and zeroes everywhere else\n",
    "eye = np.eye(4)\n",
    "print(\"numpy array:\\n{}\".format(eye))\n",
    "\n",
    "# convert the numpy array to a CSR sparse matrix (compressed sparse matrix). only the non-zero entries are stored\n",
    "sparse_matrix = sparse.csr_matrix(eye)\n",
    "print(\"\\nSciPy sparse CSR matrix:\\n{}\".format(sparse_matrix))\n",
    "\n",
    "# representation in COOrdinate format\n",
    "data = np.ones(4)\n",
    "row_indices = np.arange(4)\n",
    "col_indices = np.arange(4)\n",
    "eye_coo = sparse.coo_matrix((data, (row_indices, col_indices)))\n",
    "print(\"COO representation:\\n{}\".format(eye_coo))"
   ]
  },
  {
   "cell_type": "code",
   "execution_count": null,
   "metadata": {},
   "outputs": [],
   "source": [
    "%matplotlib inline\n",
    "import matplotlib.pyplot as plt\n",
    "\n",
    "# generate a sequence of numbers from -10 to 10 with 100 steps in between, and draw a plot\n",
    "x = np.linspace(-10, 10, 100)\n",
    "y = np.sin(x)\n",
    "plt.plot(x,y, marker=\"x\")"
   ]
  },
  {
   "cell_type": "code",
   "execution_count": null,
   "metadata": {},
   "outputs": [],
   "source": [
    "# pandas main data structures are DataFrames, which are like tables, where each column can have a separate type (unlike NumPy)\n",
    "import pandas as pd\n",
    "\n",
    "data = {'Name': ['John', 'Anna', 'Peter', 'Linda'],\n",
    "        'Location': ['NY', 'Paris', 'Berlin', 'London'],\n",
    "        'Age': [24, 13,53,33]\n",
    "        }\n",
    "data_pandas = pd.DataFrame(data)\n",
    "display(data_pandas)\n",
    "\n",
    "# select all rows that have an age greater than 30\n",
    "display(data_pandas[data_pandas.Age > 30])"
   ]
  },
  {
   "cell_type": "code",
   "execution_count": null,
   "metadata": {},
   "outputs": [],
   "source": [
    "# first example: classification problem\n",
    "# the data is a table with 150 rows and 4 columns\n",
    "from sklearn.datasets import load_iris\n",
    "iris_dataset = load_iris()\n",
    "for i in range(0, len(iris_dataset['data'])):\n",
    "    target = iris_dataset['target_names'][iris_dataset['target'][i]]\n",
    "    sepal_length = iris_dataset['data'][i][0]\n",
    "    sepal_width = iris_dataset['data'][i][1]\n",
    "    petal_length = iris_dataset['data'][i][2]\n",
    "    petal_width = iris_dataset['data'][i][3]\n",
    "    print(\"{} sepal length, {} sepal width, {} petal length, {} petal width ==> {}\".format(sepal_length, sepal_width, petal_length, petal_width, target))"
   ]
  },
  {
   "cell_type": "code",
   "execution_count": null,
   "metadata": {},
   "outputs": [],
   "source": [
    "# shuffle and split the data into train and test sets\n",
    "from sklearn.model_selection import train_test_split\n",
    "X_train, X_test, y_train, y_test = train_test_split(iris_dataset['data'], iris_dataset['target'], random_state=0)\n",
    "print(\"X_test shape: {}\".format(X_test.shape))\n",
    "print(\"y_test shape: {}\".format(y_test.shape))"
   ]
  },
  {
   "cell_type": "code",
   "execution_count": null,
   "metadata": {},
   "outputs": [],
   "source": [
    "# draw a scatter plot to analyze the input data and detect any peculiarities\n",
    "!pip install mglearn\n",
    "import mglearn\n",
    "iris_dataframe = pd.DataFrame(X_train, columns=iris_dataset.feature_names)\n",
    "print(\"iris_dataframe: {}\\n\".format(iris_dataframe.shape))\n",
    "grr = pd.plotting.scatter_matrix(iris_dataframe, c=y_train, figsize=(15,15), marker='o', hist_kwds={'bins':20}, s=60,alpha=.8, cmap=mglearn.cm3)"
   ]
  },
  {
   "cell_type": "code",
   "execution_count": null,
   "metadata": {},
   "outputs": [],
   "source": [
    "# first model! k-nearest neighbors\n",
    "from sklearn.neighbors import KNeighborsClassifier\n",
    "knn = KNeighborsClassifier(n_neighbors=1)\n",
    "knn.fit(X_train, y_train)\n",
    "X_new = np.array([[5, 2.9, 1, 0.2]])\n",
    "print(\"X_new.shape: {}\".format(X_new.shape)) # 1 row, 4 columns\n",
    "\n",
    "# make a prediction for this new iris!\n",
    "prediction = knn.predict(X_new)\n",
    "print(\"Prediction: {}\".format(iris_dataset['target_names'][prediction]))"
   ]
  },
  {
   "cell_type": "code",
   "execution_count": null,
   "metadata": {},
   "outputs": [],
   "source": [
    "# test the accuracy of the model by running it against the test set we created before\n",
    "y_pred = knn.predict(X_test)\n",
    "print(\"Test set predictions: \\n {}\".format(y_pred))\n",
    "\n",
    "accuracy = np.mean(y_pred == y_test)\n",
    "accuracy2 = knn.score(X_test, y_test)\n",
    "print(\"Model accuracy: {:.2f}\".format(accuracy))\n",
    "print(\"Model accuracy: {:.2f}\".format(accuracy2))"
   ]
  },
  {
   "cell_type": "code",
   "execution_count": null,
   "metadata": {
    "collapsed": true
   },
   "outputs": [],
   "source": []
  }
 ],
 "metadata": {
  "kernelspec": {
   "display_name": "Python 3",
   "language": "python",
   "name": "python3"
  },
  "language_info": {
   "codemirror_mode": {
    "name": "ipython",
    "version": 3
   },
   "file_extension": ".py",
   "mimetype": "text/x-python",
   "name": "python",
   "nbconvert_exporter": "python",
   "pygments_lexer": "ipython3",
   "version": "3.6.3"
  }
 },
 "nbformat": 4,
 "nbformat_minor": 2
}
